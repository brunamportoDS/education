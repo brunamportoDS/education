{
 "cells": [
  {
   "cell_type": "markdown",
   "id": "c2285fa6",
   "metadata": {},
   "source": [
    "# Education\n",
    "Use this notebook to explore EdGap and related datasets.\n",
    "\n",
    "## To‑dos\n",
    "- [ ] Verify data files exist in `../data/`\n",
    "- [ ] Load `EdGap_data.xlsx` and preview\n",
    "- [ ] Define a few guiding questions\n",
    "- [ ] Outline visualizations/tables you want to generate"
   ]
  }
 ],
 "metadata": {},
 "nbformat": 4,
 "nbformat_minor": 5
}
